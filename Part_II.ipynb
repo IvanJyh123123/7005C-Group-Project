{
  "nbformat": 4,
  "nbformat_minor": 0,
  "metadata": {
    "colab": {
      "provenance": []
    },
    "kernelspec": {
      "name": "python3",
      "display_name": "Python 3"
    },
    "language_info": {
      "name": "python"
    }
  },
  "cells": [
    {
      "cell_type": "code",
      "execution_count": 1,
      "metadata": {
        "colab": {
          "base_uri": "https://localhost:8080/"
        },
        "id": "HsKVg-ELbIFz",
        "outputId": "d51b15cc-48e4-42b3-c395-a9d57434f880"
      },
      "outputs": [
        {
          "output_type": "stream",
          "name": "stdout",
          "text": [
            "T-Debt A: Price=36.47, Duration=23.10, Convexity=605.03\n",
            "T-Debt B: Price=98.65, Duration=6.94, Convexity=53.89\n",
            "T-Debt C: Price=101.03, Duration=10.49, Convexity=130.84\n"
          ]
        }
      ],
      "source": [
        "import numpy as np\n",
        "\n",
        "def bond_price_duration_convexity(face, coupon_rate, ytm, maturity, freq=2):\n",
        "    periods = int(maturity * freq)\n",
        "    coupon = face * coupon_rate / freq\n",
        "    discount_rate = ytm / freq\n",
        "    cashflows = np.array([coupon] * (periods - 1) + [coupon + face])\n",
        "    times = np.arange(1, periods + 1)\n",
        "    discounts = 1 / (1 + discount_rate) ** times\n",
        "    price = np.sum(cashflows * discounts)\n",
        "    weights = (cashflows * discounts) / price\n",
        "    macaulay = np.sum(weights * times) / freq\n",
        "    convexity = np.sum(cashflows * discounts * times * (times + 1)) / ((1 + discount_rate) ** 2 * price * freq ** 2)\n",
        "    return price, macaulay, convexity\n",
        "\n",
        "face = 100\n",
        "\n",
        "price_A, dur_A, conv_A = bond_price_duration_convexity(face, 0.008, 0.0495, 29, freq=2)\n",
        "price_B, dur_B, conv_B = bond_price_duration_convexity(face, 0.039, 0.0410, 8, freq=2)\n",
        "price_C, dur_C, conv_C = bond_price_duration_convexity(face, 0.046, 0.0450, 14, freq=2)\n",
        "\n",
        "print(\"T-Debt A: Price={:.2f}, Duration={:.2f}, Convexity={:.2f}\".format(price_A, dur_A, conv_A))\n",
        "print(\"T-Debt B: Price={:.2f}, Duration={:.2f}, Convexity={:.2f}\".format(price_B, dur_B, conv_B))\n",
        "print(\"T-Debt C: Price={:.2f}, Duration={:.2f}, Convexity={:.2f}\".format(price_C, dur_C, conv_C))\n"
      ]
    },
    {
      "cell_type": "code",
      "source": [],
      "metadata": {
        "id": "LHeWgGXzbUhq"
      },
      "execution_count": null,
      "outputs": []
    }
  ]
}